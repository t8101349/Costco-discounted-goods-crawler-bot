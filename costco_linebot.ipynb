{
  "nbformat": 4,
  "nbformat_minor": 0,
  "metadata": {
    "colab": {
      "provenance": [],
      "include_colab_link": true
    },
    "kernelspec": {
      "name": "python3",
      "display_name": "Python 3"
    },
    "language_info": {
      "name": "python"
    }
  },
  "cells": [
    {
      "cell_type": "markdown",
      "metadata": {
        "id": "view-in-github",
        "colab_type": "text"
      },
      "source": [
        "<a href=\"https://colab.research.google.com/github/t8101349/Costco-discounted-goods-crawler-bot/blob/main/costco_linebot.ipynb\" target=\"_parent\"><img src=\"https://colab.research.google.com/assets/colab-badge.svg\" alt=\"Open In Colab\"/></a>"
      ]
    },
    {
      "cell_type": "code",
      "source": [
        "!pip install line-bot-sdk flask\n"
      ],
      "metadata": {
        "colab": {
          "base_uri": "https://localhost:8080/"
        },
        "id": "mhhvGbrXpZON",
        "outputId": "9a02bf67-6321-4374-8fd2-860a865fb51d"
      },
      "execution_count": 1,
      "outputs": [
        {
          "output_type": "stream",
          "name": "stdout",
          "text": [
            "Collecting line-bot-sdk\n",
            "  Downloading line_bot_sdk-3.16.3-py2.py3-none-any.whl.metadata (13 kB)\n",
            "Requirement already satisfied: flask in /usr/local/lib/python3.11/dist-packages (3.1.0)\n",
            "Requirement already satisfied: requests<3,>=2.32.3 in /usr/local/lib/python3.11/dist-packages (from line-bot-sdk) (2.32.3)\n",
            "Requirement already satisfied: urllib3<3,>=2.0.5 in /usr/local/lib/python3.11/dist-packages (from line-bot-sdk) (2.3.0)\n",
            "Requirement already satisfied: aiohttp<4,>=3.10.9 in /usr/local/lib/python3.11/dist-packages (from line-bot-sdk) (3.11.14)\n",
            "Requirement already satisfied: future>=1.0.0 in /usr/local/lib/python3.11/dist-packages (from line-bot-sdk) (1.0.0)\n",
            "Requirement already satisfied: pydantic<3,>=2.0.3 in /usr/local/lib/python3.11/dist-packages (from line-bot-sdk) (2.11.0)\n",
            "Collecting aenum<4,>=3.1.11 (from line-bot-sdk)\n",
            "  Downloading aenum-3.1.15-py3-none-any.whl.metadata (3.7 kB)\n",
            "Requirement already satisfied: python_dateutil<3,>=2.5.3 in /usr/local/lib/python3.11/dist-packages (from line-bot-sdk) (2.8.2)\n",
            "Requirement already satisfied: Deprecated>=1.2.18 in /usr/local/lib/python3.11/dist-packages (from line-bot-sdk) (1.2.18)\n",
            "Requirement already satisfied: Werkzeug>=3.1 in /usr/local/lib/python3.11/dist-packages (from flask) (3.1.3)\n",
            "Requirement already satisfied: Jinja2>=3.1.2 in /usr/local/lib/python3.11/dist-packages (from flask) (3.1.6)\n",
            "Requirement already satisfied: itsdangerous>=2.2 in /usr/local/lib/python3.11/dist-packages (from flask) (2.2.0)\n",
            "Requirement already satisfied: click>=8.1.3 in /usr/local/lib/python3.11/dist-packages (from flask) (8.1.8)\n",
            "Requirement already satisfied: blinker>=1.9 in /usr/local/lib/python3.11/dist-packages (from flask) (1.9.0)\n",
            "Requirement already satisfied: aiohappyeyeballs>=2.3.0 in /usr/local/lib/python3.11/dist-packages (from aiohttp<4,>=3.10.9->line-bot-sdk) (2.6.1)\n",
            "Requirement already satisfied: aiosignal>=1.1.2 in /usr/local/lib/python3.11/dist-packages (from aiohttp<4,>=3.10.9->line-bot-sdk) (1.3.2)\n",
            "Requirement already satisfied: attrs>=17.3.0 in /usr/local/lib/python3.11/dist-packages (from aiohttp<4,>=3.10.9->line-bot-sdk) (25.3.0)\n",
            "Requirement already satisfied: frozenlist>=1.1.1 in /usr/local/lib/python3.11/dist-packages (from aiohttp<4,>=3.10.9->line-bot-sdk) (1.5.0)\n",
            "Requirement already satisfied: multidict<7.0,>=4.5 in /usr/local/lib/python3.11/dist-packages (from aiohttp<4,>=3.10.9->line-bot-sdk) (6.2.0)\n",
            "Requirement already satisfied: propcache>=0.2.0 in /usr/local/lib/python3.11/dist-packages (from aiohttp<4,>=3.10.9->line-bot-sdk) (0.3.1)\n",
            "Requirement already satisfied: yarl<2.0,>=1.17.0 in /usr/local/lib/python3.11/dist-packages (from aiohttp<4,>=3.10.9->line-bot-sdk) (1.18.3)\n",
            "Requirement already satisfied: wrapt<2,>=1.10 in /usr/local/lib/python3.11/dist-packages (from Deprecated>=1.2.18->line-bot-sdk) (1.17.2)\n",
            "Requirement already satisfied: MarkupSafe>=2.0 in /usr/local/lib/python3.11/dist-packages (from Jinja2>=3.1.2->flask) (3.0.2)\n",
            "Requirement already satisfied: annotated-types>=0.6.0 in /usr/local/lib/python3.11/dist-packages (from pydantic<3,>=2.0.3->line-bot-sdk) (0.7.0)\n",
            "Requirement already satisfied: pydantic-core==2.33.0 in /usr/local/lib/python3.11/dist-packages (from pydantic<3,>=2.0.3->line-bot-sdk) (2.33.0)\n",
            "Requirement already satisfied: typing-extensions>=4.12.2 in /usr/local/lib/python3.11/dist-packages (from pydantic<3,>=2.0.3->line-bot-sdk) (4.13.0)\n",
            "Requirement already satisfied: typing-inspection>=0.4.0 in /usr/local/lib/python3.11/dist-packages (from pydantic<3,>=2.0.3->line-bot-sdk) (0.4.0)\n",
            "Requirement already satisfied: six>=1.5 in /usr/local/lib/python3.11/dist-packages (from python_dateutil<3,>=2.5.3->line-bot-sdk) (1.17.0)\n",
            "Requirement already satisfied: charset-normalizer<4,>=2 in /usr/local/lib/python3.11/dist-packages (from requests<3,>=2.32.3->line-bot-sdk) (3.4.1)\n",
            "Requirement already satisfied: idna<4,>=2.5 in /usr/local/lib/python3.11/dist-packages (from requests<3,>=2.32.3->line-bot-sdk) (3.10)\n",
            "Requirement already satisfied: certifi>=2017.4.17 in /usr/local/lib/python3.11/dist-packages (from requests<3,>=2.32.3->line-bot-sdk) (2025.1.31)\n",
            "Downloading line_bot_sdk-3.16.3-py2.py3-none-any.whl (779 kB)\n",
            "\u001b[2K   \u001b[90m━━━━━━━━━━━━━━━━━━━━━━━━━━━━━━━━━━━━━━━━\u001b[0m \u001b[32m779.9/779.9 kB\u001b[0m \u001b[31m9.2 MB/s\u001b[0m eta \u001b[36m0:00:00\u001b[0m\n",
            "\u001b[?25hDownloading aenum-3.1.15-py3-none-any.whl (137 kB)\n",
            "\u001b[2K   \u001b[90m━━━━━━━━━━━━━━━━━━━━━━━━━━━━━━━━━━━━━━━━\u001b[0m \u001b[32m137.6/137.6 kB\u001b[0m \u001b[31m12.2 MB/s\u001b[0m eta \u001b[36m0:00:00\u001b[0m\n",
            "\u001b[?25hInstalling collected packages: aenum, line-bot-sdk\n",
            "Successfully installed aenum-3.1.15 line-bot-sdk-3.16.3\n"
          ]
        }
      ]
    },
    {
      "cell_type": "code",
      "source": [
        "!apt-get update\n",
        "!apt-get install -y curl\n",
        "!curl -O https://dl.google.com/dl/cloudsdk/channels/rapid/downloads/google-cloud-sdk-430.0.0-linux-x86_64.tar.gz\n",
        "!tar -xzf google-cloud-sdk-430.0.0-linux-x86_64.tar.gz\n",
        "!./google-cloud-sdk/install.sh -q\n",
        "!./google-cloud-sdk/bin/gcloud init"
      ],
      "metadata": {
        "colab": {
          "base_uri": "https://localhost:8080/"
        },
        "id": "U5ZTE4Cwq8aX",
        "outputId": "95d6777f-bf18-48c1-b4e5-9f89afa08be3"
      },
      "execution_count": 2,
      "outputs": [
        {
          "output_type": "stream",
          "name": "stdout",
          "text": [
            "Get:1 https://cloud.r-project.org/bin/linux/ubuntu jammy-cran40/ InRelease [3,632 B]\n",
            "Hit:2 https://developer.download.nvidia.com/compute/cuda/repos/ubuntu2204/x86_64  InRelease\n",
            "Get:3 http://security.ubuntu.com/ubuntu jammy-security InRelease [129 kB]\n",
            "Hit:4 http://archive.ubuntu.com/ubuntu jammy InRelease\n",
            "Get:5 https://r2u.stat.illinois.edu/ubuntu jammy InRelease [6,555 B]\n",
            "Get:6 http://archive.ubuntu.com/ubuntu jammy-updates InRelease [128 kB]\n",
            "Hit:7 https://ppa.launchpadcontent.net/deadsnakes/ppa/ubuntu jammy InRelease\n",
            "Hit:8 https://ppa.launchpadcontent.net/graphics-drivers/ppa/ubuntu jammy InRelease\n",
            "Hit:9 https://ppa.launchpadcontent.net/ubuntugis/ppa/ubuntu jammy InRelease\n",
            "Get:10 http://archive.ubuntu.com/ubuntu jammy-backports InRelease [127 kB]\n",
            "Get:11 https://r2u.stat.illinois.edu/ubuntu jammy/main all Packages [8,793 kB]\n",
            "Get:12 http://security.ubuntu.com/ubuntu jammy-security/main amd64 Packages [2,773 kB]\n",
            "Get:13 https://r2u.stat.illinois.edu/ubuntu jammy/main amd64 Packages [2,686 kB]\n",
            "Get:14 http://security.ubuntu.com/ubuntu jammy-security/universe amd64 Packages [1,241 kB]\n",
            "Get:15 http://security.ubuntu.com/ubuntu jammy-security/restricted amd64 Packages [3,972 kB]\n",
            "Get:16 http://archive.ubuntu.com/ubuntu jammy-updates/universe amd64 Packages [1,540 kB]\n",
            "Get:17 http://archive.ubuntu.com/ubuntu jammy-updates/main amd64 Packages [3,081 kB]\n",
            "Get:18 http://archive.ubuntu.com/ubuntu jammy-updates/restricted amd64 Packages [4,126 kB]\n",
            "Fetched 28.6 MB in 10s (2,861 kB/s)\n",
            "Reading package lists... Done\n",
            "W: Skipping acquire of configured file 'main/source/Sources' as repository 'https://r2u.stat.illinois.edu/ubuntu jammy InRelease' does not seem to provide it (sources.list entry misspelt?)\n",
            "Reading package lists... Done\n",
            "Building dependency tree... Done\n",
            "Reading state information... Done\n",
            "curl is already the newest version (7.81.0-1ubuntu1.20).\n",
            "0 upgraded, 0 newly installed, 0 to remove and 39 not upgraded.\n",
            "  % Total    % Received % Xferd  Average Speed   Time    Time     Time  Current\n",
            "                                 Dload  Upload   Total   Spent    Left  Speed\n",
            "100  181M  100  181M    0     0  18.3M      0  0:00:09  0:00:09 --:--:-- 20.5M\n",
            "Welcome to the Google Cloud CLI!\n",
            "WARNING: You appear to be running this script as root. This may cause \n",
            "the installation to be inaccessible to users other than the root user.\n",
            "\n",
            "To help improve the quality of this product, we collect anonymized usage data\n",
            "and anonymized stacktraces when crashes are encountered; additional information\n",
            "is available at <https://cloud.google.com/sdk/usage-statistics>. This data is\n",
            "handled in accordance with our privacy policy\n",
            "<https://cloud.google.com/terms/cloud-privacy-notice>. You may choose to opt in this\n",
            "collection now (by choosing 'Y' at the below prompt), or at any time in the\n",
            "future by running the following command:\n",
            "\n",
            "    gcloud config set disable_usage_reporting false\n",
            "\n",
            "\n",
            "Your current Google Cloud CLI version is: 430.0.0\n",
            "The latest available version is: 517.0.0\n",
            "\n",
            "┌────────────────────────────────────────────────────────────────────────────────────────────────────────────────────┐\n",
            "│                                                     Components                                                     │\n",
            "├──────────────────┬──────────────────────────────────────────────────────┬──────────────────────────────┬───────────┤\n",
            "│      Status      │                         Name                         │              ID              │    Size   │\n",
            "├──────────────────┼──────────────────────────────────────────────────────┼──────────────────────────────┼───────────┤\n",
            "│ Update Available │ BigQuery Command Line Tool                           │ bq                           │   1.8 MiB │\n",
            "│ Update Available │ Cloud Storage Command Line Tool                      │ gsutil                       │  11.8 MiB │\n",
            "│ Update Available │ Google Cloud CLI Core Libraries                      │ core                         │  21.3 MiB │\n",
            "│ Not Installed    │ App Engine Go Extensions                             │ app-engine-go                │   4.7 MiB │\n",
            "│ Not Installed    │ Appctl                                               │ appctl                       │  21.0 MiB │\n",
            "│ Not Installed    │ Artifact Registry Go Module Package Helper           │ package-go-module            │   < 1 MiB │\n",
            "│ Not Installed    │ Cloud Bigtable Command Line Tool                     │ cbt                          │  19.1 MiB │\n",
            "│ Not Installed    │ Cloud Bigtable Emulator                              │ bigtable                     │   7.8 MiB │\n",
            "│ Not Installed    │ Cloud Datastore Emulator                             │ cloud-datastore-emulator     │  36.2 MiB │\n",
            "│ Not Installed    │ Cloud Firestore Emulator                             │ cloud-firestore-emulator     │  46.9 MiB │\n",
            "│ Not Installed    │ Cloud Pub/Sub Emulator                               │ pubsub-emulator              │  62.4 MiB │\n",
            "│ Not Installed    │ Cloud Run Proxy                                      │ cloud-run-proxy              │  13.3 MiB │\n",
            "│ Not Installed    │ Cloud SQL Proxy v2                                   │ cloud-sql-proxy              │  14.9 MiB │\n",
            "│ Not Installed    │ Cloud Spanner Emulator                               │ cloud-spanner-emulator       │  37.7 MiB │\n",
            "│ Not Installed    │ Google Container Registry's Docker credential helper │ docker-credential-gcr        │   1.8 MiB │\n",
            "│ Not Installed    │ Kustomize                                            │ kustomize                    │   4.3 MiB │\n",
            "│ Not Installed    │ Log Streaming                                        │ log-streaming                │  18.2 MiB │\n",
            "│ Not Installed    │ Managed Flink Client                                 │ managed-flink-client         │ 383.4 MiB │\n",
            "│ Not Installed    │ Minikube                                             │ minikube                     │  45.2 MiB │\n",
            "│ Not Installed    │ Nomos CLI                                            │ nomos                        │  33.3 MiB │\n",
            "│ Not Installed    │ On-Demand Scanning API extraction helper             │ local-extract                │  31.6 MiB │\n",
            "│ Not Installed    │ Skaffold                                             │ skaffold                     │  32.6 MiB │\n",
            "│ Not Installed    │ Spanner migration tool                               │ spanner-migration-tool       │  28.1 MiB │\n",
            "│ Not Installed    │ Terraform Tools                                      │ terraform-tools              │  66.1 MiB │\n",
            "│ Not Installed    │ anthos-auth                                          │ anthos-auth                  │  22.0 MiB │\n",
            "│ Not Installed    │ config-connector                                     │ config-connector             │  91.1 MiB │\n",
            "│ Not Installed    │ enterprise-certificate-proxy                         │ enterprise-certificate-proxy │  10.5 MiB │\n",
            "│ Not Installed    │ gcloud Alpha Commands                                │ alpha                        │   < 1 MiB │\n",
            "│ Not Installed    │ gcloud Beta Commands                                 │ beta                         │   < 1 MiB │\n",
            "│ Not Installed    │ gcloud app Java Extensions                           │ app-engine-java              │ 128.4 MiB │\n",
            "│ Not Installed    │ gcloud app Python Extensions                         │ app-engine-python            │   3.8 MiB │\n",
            "│ Not Installed    │ gcloud app Python Extensions (Extra Libraries)       │ app-engine-python-extras     │   < 1 MiB │\n",
            "│ Not Installed    │ gke-gcloud-auth-plugin                               │ gke-gcloud-auth-plugin       │   3.5 MiB │\n",
            "│ Not Installed    │ istioctl                                             │ istioctl                     │  24.7 MiB │\n",
            "│ Not Installed    │ kpt                                                  │ kpt                          │  15.1 MiB │\n",
            "│ Not Installed    │ kubectl                                              │ kubectl                      │   < 1 MiB │\n",
            "│ Not Installed    │ kubectl-oidc                                         │ kubectl-oidc                 │  22.0 MiB │\n",
            "│ Not Installed    │ pkg                                                  │ pkg                          │           │\n",
            "│ Installed        │ Bundled Python 3.12                                  │ bundled-python3-unix         │  89.2 MiB │\n",
            "│ Installed        │ Google Cloud CRC32C Hash Tool                        │ gcloud-crc32c                │   1.4 MiB │\n",
            "└──────────────────┴──────────────────────────────────────────────────────┴──────────────────────────────┴───────────┘\n",
            "To install or remove components at your current SDK version [430.0.0], run:\n",
            "  $ gcloud components install COMPONENT_ID\n",
            "  $ gcloud components remove COMPONENT_ID\n",
            "\n",
            "To update your SDK installation to the latest version [517.0.0], run:\n",
            "  $ gcloud components update\n",
            "\n",
            "==> Source [/content/google-cloud-sdk/completion.bash.inc] in your profile to enable shell command completion for gcloud.\n",
            "==> Source [/content/google-cloud-sdk/path.bash.inc] in your profile to add the Google Cloud SDK command line tools to your $PATH.\n",
            "\n",
            "For more information on how to get started, please visit:\n",
            "  https://cloud.google.com/sdk/docs/quickstarts\n",
            "\n",
            "\n",
            "Welcome! This command will take you through the configuration of gcloud.\n",
            "\n",
            "Settings from your current configuration [default] are:\n",
            "component_manager:\n",
            "  disable_update_check: 'true'\n",
            "compute:\n",
            "  gce_metadata_read_timeout_sec: '0'\n",
            "core:\n",
            "  disable_usage_reporting: 'True'\n",
            "\n",
            "Pick configuration to use:\n",
            " [1] Re-initialize this configuration [default] with new settings \n",
            " [2] Create a new configuration\n",
            "Please enter your numeric choice:  1\n",
            "\n",
            "Your current configuration has been set to: [default]\n",
            "\n",
            "You can skip diagnostics next time by using the following flag:\n",
            "  gcloud init --skip-diagnostics\n",
            "\n",
            "Network diagnostic detects and fixes local network connection issues.\n",
            "Reachability Check passed.\n",
            "Network diagnostic passed (1/1 checks passed).\n",
            "\n",
            "You must log in to continue. Would you like to log in (Y/n)?  y\n",
            "\n",
            "Go to the following link in your browser:\n",
            "\n",
            "    https://accounts.google.com/o/oauth2/auth?response_type=code&client_id=32555940559.apps.googleusercontent.com&redirect_uri=https%3A%2F%2Fsdk.cloud.google.com%2Fauthcode.html&scope=openid+https%3A%2F%2Fwww.googleapis.com%2Fauth%2Fuserinfo.email+https%3A%2F%2Fwww.googleapis.com%2Fauth%2Fcloud-platform+https%3A%2F%2Fwww.googleapis.com%2Fauth%2Fappengine.admin+https%3A%2F%2Fwww.googleapis.com%2Fauth%2Fsqlservice.login+https%3A%2F%2Fwww.googleapis.com%2Fauth%2Fcompute+https%3A%2F%2Fwww.googleapis.com%2Fauth%2Faccounts.reauth&state=LBHiJgRCaTqzVIlQF3Nk2XQY546Ova&prompt=consent&access_type=offline&code_challenge=1dnmoa2_Zc3a6Y0py800dJI4Fs1belsfsG3CYhuGKFc&code_challenge_method=S256\n",
            "\n",
            "Enter authorization code: 4/0AQSTgQFzw7RZ-C6_CqLy2QdInrOh77IpEUj6JK_aQ6gB6ajkZM_bmuGhnStVCFvIMnfyTA\n",
            "You are logged in as: [t8101349@gmail.com].\n",
            "\n",
            "Pick cloud project to use: \n",
            " [1] clean-pottery-450002-g5\n",
            " [2] costco-line\n",
            " [3] tibame-gad245-28-0226\n",
            " [4] tibame-gad245-28-0305\n",
            " [5] tibame-gad245-28-0319\n",
            " [6] weber-tbm-250205\n",
            " [7] Enter a project ID\n",
            " [8] Create a new project\n",
            "Please enter numeric choice or text value (must exactly match list item):  2\n",
            "\n",
            "Your current project has been set to: [costco-line].\n",
            "\n",
            "Do you want to configure a default Compute Region and Zone? (Y/n)?  y\n",
            "\n",
            "Which Google Compute Engine zone would you like to use as project default?\n",
            "If you do not specify a zone via a command line flag while working with Compute \n",
            "Engine resources, the default is assumed.\n",
            " [1] us-east1-b\n",
            " [2] us-east1-c\n",
            " [3] us-east1-d\n",
            " [4] us-east4-c\n",
            " [5] us-east4-b\n",
            " [6] us-east4-a\n",
            " [7] us-central1-c\n",
            " [8] us-central1-a\n",
            " [9] us-central1-f\n",
            " [10] us-central1-b\n",
            " [11] us-west1-b\n",
            " [12] us-west1-c\n",
            " [13] us-west1-a\n",
            " [14] europe-west4-a\n",
            " [15] europe-west4-b\n",
            " [16] europe-west4-c\n",
            " [17] europe-west1-b\n",
            " [18] europe-west1-d\n",
            " [19] europe-west1-c\n",
            " [20] europe-west3-c\n",
            " [21] europe-west3-a\n",
            " [22] europe-west3-b\n",
            " [23] europe-west2-c\n",
            " [24] europe-west2-b\n",
            " [25] europe-west2-a\n",
            " [26] asia-east1-b\n",
            " [27] asia-east1-a\n",
            " [28] asia-east1-c\n",
            " [29] asia-southeast1-b\n",
            " [30] asia-southeast1-a\n",
            " [31] asia-southeast1-c\n",
            " [32] asia-northeast1-b\n",
            " [33] asia-northeast1-c\n",
            " [34] asia-northeast1-a\n",
            " [35] asia-south1-c\n",
            " [36] asia-south1-b\n",
            " [37] asia-south1-a\n",
            " [38] australia-southeast1-b\n",
            " [39] australia-southeast1-c\n",
            " [40] australia-southeast1-a\n",
            " [41] southamerica-east1-b\n",
            " [42] southamerica-east1-c\n",
            " [43] southamerica-east1-a\n",
            " [44] africa-south1-a\n",
            " [45] africa-south1-b\n",
            " [46] africa-south1-c\n",
            " [47] asia-east2-a\n",
            " [48] asia-east2-b\n",
            " [49] asia-east2-c\n",
            " [50] asia-northeast2-a\n",
            "Did not print [78] options.\n",
            "Too many options [128]. Enter \"list\" at prompt to print choices fully.\n",
            "Please enter numeric choice or text value (must exactly match list item):  26\n",
            "\n",
            "Your project default Compute Engine zone has been set to [asia-east1-b].\n",
            "You can change it by running [gcloud config set compute/zone NAME].\n",
            "\n",
            "Your project default Compute Engine region has been set to [asia-east1].\n",
            "You can change it by running [gcloud config set compute/region NAME].\n",
            "\n",
            "Created a default .boto configuration file at [/root/.boto]. See this file and\n",
            "[https://cloud.google.com/storage/docs/gsutil/commands/config] for more\n",
            "information about configuring Google Cloud Storage.\n",
            "Your Google Cloud SDK is configured and ready to use!\n",
            "\n",
            "* Commands that require authentication will use t8101349@gmail.com by default\n",
            "* Commands will reference project `costco-line` by default\n",
            "* Compute Engine commands will use region `asia-east1` by default\n",
            "* Compute Engine commands will use zone `asia-east1-b` by default\n",
            "\n",
            "Run `gcloud help config` to learn how to change individual settings\n",
            "\n",
            "This gcloud configuration is called [default]. You can create additional configurations if you work with multiple accounts and/or projects.\n",
            "Run `gcloud topic configurations` to learn more.\n",
            "\n",
            "Some things to try next:\n",
            "\n",
            "* Run `gcloud --help` to see the Cloud Platform services you can interact with. And run `gcloud help COMMAND` to get help on any gcloud command.\n",
            "* Run `gcloud topic --help` to learn about advanced features of the SDK like arg files and output formatting\n",
            "* Run `gcloud cheat-sheet` to see a roster of go-to `gcloud` commands.\n"
          ]
        }
      ]
    },
    {
      "cell_type": "code",
      "execution_count": 3,
      "metadata": {
        "colab": {
          "base_uri": "https://localhost:8080/"
        },
        "id": "PqpLMDdMoxrg",
        "outputId": "149db1fe-a153-4128-de72-fff789ea2097"
      },
      "outputs": [
        {
          "output_type": "stream",
          "name": "stdout",
          "text": [
            "Writing linebot.py\n"
          ]
        }
      ],
      "source": [
        "%%writefile linebot.py\n",
        "from flask import Flask, request, abort\n",
        "from linebot import LineBotApi, WebhookHandler\n",
        "from linebot.exceptions import InvalidSignatureError\n",
        "from linebot.models import MessageEvent, TextMessage, TextSendMessage\n",
        "import os\n",
        "import requests\n",
        "import json\n",
        "import time\n",
        "\n",
        "app = Flask(__name__)\n",
        "\n",
        "CHANNEL_ACCESS_TOKEN = 'ik9reNYdHWJhkqdey1cIrtKNF/yMKWyCGTZmkfeZH4FtGSj/hwZmHputQN/95c5dW29MRScjKcLwRFwD67vw8pMON62xtn/lbxm/7X7jVHplqvOtFM9jAGb+azrpqSEULEzdr4OSCJj2aAYm2wH21AdB04t89/1O/w1cDnyilFU='\n",
        "CHANNEL_SECRET = 'a32b70f15b6fe55ec4ae766e1325cd16'\n",
        "\n",
        "line_bot_api = LineBotApi(CHANNEL_ACCESS_TOKEN)\n",
        "handler = WebhookHandler(CHANNEL_SECRET)\n",
        "\n",
        "# Costco 折扣抓取邏輯\n",
        "api_url = \"https://www.costco.com.tw/rest/v2/taiwan/products/search\"\n",
        "params = {\n",
        "    \"fields\": \"FULL\",\n",
        "    \"query\": \":BazaarVoiceRating-desc:bazaarVoiceAverageRatingFacet:4-5:bazaarVoiceAverageRatingFacet:5:bazaarVoiceAverageRatingFacet:3-4\",\n",
        "    \"pageSize\": 3,\n",
        "    \"sort\": \"BazaarVoiceRating-desc\",\n",
        "    \"category\": \"Coupon\",\n",
        "    \"lang\": \"zh_TW\",\n",
        "    \"curr\": \"TWD\",\n",
        "    \"currentPage\": 0\n",
        "}\n",
        "\n",
        "def fetch_costco_data():\n",
        "    headers = {\"User-Agent\": \"Mozilla/5.0\", \"Accept\": \"application/json\"}\n",
        "    response = requests.get(api_url, headers=headers, params=params)\n",
        "    products_info = []\n",
        "\n",
        "    if response.status_code == 200:\n",
        "        products = response.json().get('products', [])\n",
        "        for product in products:\n",
        "            name = product.get(\"name\")\n",
        "            price = product.get(\"price\", {'value':\"售完\"}).get(\"value\")\n",
        "            currency = product.get(\"price\", {}).get(\"currencyIso\", \"\")\n",
        "            rating = product.get(\"averageRating\", \"無評價\")\n",
        "            image_url = 'https://www.costco.com.tw' + product.get(\"images\", [{}])[0].get(\"url\", \"無圖片\")\n",
        "            products_info.append(f\"商品: {name}\\n價格: {price} {currency}\\n評價: {rating}\\n{image_url}\\n\")\n",
        "    return products_info\n",
        "\n",
        "@app.route('/callback', methods=['POST'])\n",
        "def callback():\n",
        "    signature = request.headers.get('X-Line-Signature')\n",
        "    body = request.get_data(as_text=True)\n",
        "    try:\n",
        "        handler.handle(body, signature)\n",
        "    except InvalidSignatureError:\n",
        "        abort(400)\n",
        "    return 'OK'\n",
        "\n",
        "@handler.add(MessageEvent, message=TextMessage)\n",
        "def handle_message(event):\n",
        "    user_message = event.message.text\n",
        "    if user_message == \"查詢折扣\":\n",
        "        costco_data = fetch_costco_data()\n",
        "        reply = \"\\n\".join(costco_data) if costco_data else \"暫無優惠資訊\"\n",
        "    else:\n",
        "        reply = f\"你說了：{user_message}\"\n",
        "    line_bot_api.reply_message(event.reply_token, TextSendMessage(text=reply))\n",
        "\n",
        "if __name__ == \"__main__\":\n",
        "    port = int(os.environ.get(\"PORT\", 5000))\n",
        "    app.run(host=\"0.0.0.0\", port=port, debug=True)"
      ]
    },
    {
      "cell_type": "code",
      "source": [
        "# 驗證 GCP Service Account\n",
        "from google.colab import files\n",
        "uploaded = files.upload()  # 上傳 service-account-key.json\n"
      ],
      "metadata": {
        "colab": {
          "base_uri": "https://localhost:8080/",
          "height": 76
        },
        "id": "4oQkrxAjsD8F",
        "outputId": "cb225dac-aa64-461d-914f-2ce7d3a3c080"
      },
      "execution_count": 4,
      "outputs": [
        {
          "output_type": "display_data",
          "data": {
            "text/plain": [
              "<IPython.core.display.HTML object>"
            ],
            "text/html": [
              "\n",
              "     <input type=\"file\" id=\"files-2e725ca2-9376-45c4-bf36-55789978e82c\" name=\"files[]\" multiple disabled\n",
              "        style=\"border:none\" />\n",
              "     <output id=\"result-2e725ca2-9376-45c4-bf36-55789978e82c\">\n",
              "      Upload widget is only available when the cell has been executed in the\n",
              "      current browser session. Please rerun this cell to enable.\n",
              "      </output>\n",
              "      <script>// Copyright 2017 Google LLC\n",
              "//\n",
              "// Licensed under the Apache License, Version 2.0 (the \"License\");\n",
              "// you may not use this file except in compliance with the License.\n",
              "// You may obtain a copy of the License at\n",
              "//\n",
              "//      http://www.apache.org/licenses/LICENSE-2.0\n",
              "//\n",
              "// Unless required by applicable law or agreed to in writing, software\n",
              "// distributed under the License is distributed on an \"AS IS\" BASIS,\n",
              "// WITHOUT WARRANTIES OR CONDITIONS OF ANY KIND, either express or implied.\n",
              "// See the License for the specific language governing permissions and\n",
              "// limitations under the License.\n",
              "\n",
              "/**\n",
              " * @fileoverview Helpers for google.colab Python module.\n",
              " */\n",
              "(function(scope) {\n",
              "function span(text, styleAttributes = {}) {\n",
              "  const element = document.createElement('span');\n",
              "  element.textContent = text;\n",
              "  for (const key of Object.keys(styleAttributes)) {\n",
              "    element.style[key] = styleAttributes[key];\n",
              "  }\n",
              "  return element;\n",
              "}\n",
              "\n",
              "// Max number of bytes which will be uploaded at a time.\n",
              "const MAX_PAYLOAD_SIZE = 100 * 1024;\n",
              "\n",
              "function _uploadFiles(inputId, outputId) {\n",
              "  const steps = uploadFilesStep(inputId, outputId);\n",
              "  const outputElement = document.getElementById(outputId);\n",
              "  // Cache steps on the outputElement to make it available for the next call\n",
              "  // to uploadFilesContinue from Python.\n",
              "  outputElement.steps = steps;\n",
              "\n",
              "  return _uploadFilesContinue(outputId);\n",
              "}\n",
              "\n",
              "// This is roughly an async generator (not supported in the browser yet),\n",
              "// where there are multiple asynchronous steps and the Python side is going\n",
              "// to poll for completion of each step.\n",
              "// This uses a Promise to block the python side on completion of each step,\n",
              "// then passes the result of the previous step as the input to the next step.\n",
              "function _uploadFilesContinue(outputId) {\n",
              "  const outputElement = document.getElementById(outputId);\n",
              "  const steps = outputElement.steps;\n",
              "\n",
              "  const next = steps.next(outputElement.lastPromiseValue);\n",
              "  return Promise.resolve(next.value.promise).then((value) => {\n",
              "    // Cache the last promise value to make it available to the next\n",
              "    // step of the generator.\n",
              "    outputElement.lastPromiseValue = value;\n",
              "    return next.value.response;\n",
              "  });\n",
              "}\n",
              "\n",
              "/**\n",
              " * Generator function which is called between each async step of the upload\n",
              " * process.\n",
              " * @param {string} inputId Element ID of the input file picker element.\n",
              " * @param {string} outputId Element ID of the output display.\n",
              " * @return {!Iterable<!Object>} Iterable of next steps.\n",
              " */\n",
              "function* uploadFilesStep(inputId, outputId) {\n",
              "  const inputElement = document.getElementById(inputId);\n",
              "  inputElement.disabled = false;\n",
              "\n",
              "  const outputElement = document.getElementById(outputId);\n",
              "  outputElement.innerHTML = '';\n",
              "\n",
              "  const pickedPromise = new Promise((resolve) => {\n",
              "    inputElement.addEventListener('change', (e) => {\n",
              "      resolve(e.target.files);\n",
              "    });\n",
              "  });\n",
              "\n",
              "  const cancel = document.createElement('button');\n",
              "  inputElement.parentElement.appendChild(cancel);\n",
              "  cancel.textContent = 'Cancel upload';\n",
              "  const cancelPromise = new Promise((resolve) => {\n",
              "    cancel.onclick = () => {\n",
              "      resolve(null);\n",
              "    };\n",
              "  });\n",
              "\n",
              "  // Wait for the user to pick the files.\n",
              "  const files = yield {\n",
              "    promise: Promise.race([pickedPromise, cancelPromise]),\n",
              "    response: {\n",
              "      action: 'starting',\n",
              "    }\n",
              "  };\n",
              "\n",
              "  cancel.remove();\n",
              "\n",
              "  // Disable the input element since further picks are not allowed.\n",
              "  inputElement.disabled = true;\n",
              "\n",
              "  if (!files) {\n",
              "    return {\n",
              "      response: {\n",
              "        action: 'complete',\n",
              "      }\n",
              "    };\n",
              "  }\n",
              "\n",
              "  for (const file of files) {\n",
              "    const li = document.createElement('li');\n",
              "    li.append(span(file.name, {fontWeight: 'bold'}));\n",
              "    li.append(span(\n",
              "        `(${file.type || 'n/a'}) - ${file.size} bytes, ` +\n",
              "        `last modified: ${\n",
              "            file.lastModifiedDate ? file.lastModifiedDate.toLocaleDateString() :\n",
              "                                    'n/a'} - `));\n",
              "    const percent = span('0% done');\n",
              "    li.appendChild(percent);\n",
              "\n",
              "    outputElement.appendChild(li);\n",
              "\n",
              "    const fileDataPromise = new Promise((resolve) => {\n",
              "      const reader = new FileReader();\n",
              "      reader.onload = (e) => {\n",
              "        resolve(e.target.result);\n",
              "      };\n",
              "      reader.readAsArrayBuffer(file);\n",
              "    });\n",
              "    // Wait for the data to be ready.\n",
              "    let fileData = yield {\n",
              "      promise: fileDataPromise,\n",
              "      response: {\n",
              "        action: 'continue',\n",
              "      }\n",
              "    };\n",
              "\n",
              "    // Use a chunked sending to avoid message size limits. See b/62115660.\n",
              "    let position = 0;\n",
              "    do {\n",
              "      const length = Math.min(fileData.byteLength - position, MAX_PAYLOAD_SIZE);\n",
              "      const chunk = new Uint8Array(fileData, position, length);\n",
              "      position += length;\n",
              "\n",
              "      const base64 = btoa(String.fromCharCode.apply(null, chunk));\n",
              "      yield {\n",
              "        response: {\n",
              "          action: 'append',\n",
              "          file: file.name,\n",
              "          data: base64,\n",
              "        },\n",
              "      };\n",
              "\n",
              "      let percentDone = fileData.byteLength === 0 ?\n",
              "          100 :\n",
              "          Math.round((position / fileData.byteLength) * 100);\n",
              "      percent.textContent = `${percentDone}% done`;\n",
              "\n",
              "    } while (position < fileData.byteLength);\n",
              "  }\n",
              "\n",
              "  // All done.\n",
              "  yield {\n",
              "    response: {\n",
              "      action: 'complete',\n",
              "    }\n",
              "  };\n",
              "}\n",
              "\n",
              "scope.google = scope.google || {};\n",
              "scope.google.colab = scope.google.colab || {};\n",
              "scope.google.colab._files = {\n",
              "  _uploadFiles,\n",
              "  _uploadFilesContinue,\n",
              "};\n",
              "})(self);\n",
              "</script> "
            ]
          },
          "metadata": {}
        },
        {
          "output_type": "stream",
          "name": "stdout",
          "text": [
            "Saving costco-line-e1c5befd361d.json to costco-line-e1c5befd361d.json\n"
          ]
        }
      ]
    },
    {
      "cell_type": "code",
      "source": [
        "!gcloud config set project costco-line\n"
      ],
      "metadata": {
        "colab": {
          "base_uri": "https://localhost:8080/"
        },
        "id": "I3xriwwe1XuJ",
        "outputId": "2b92d310-c5f2-43ba-eaf0-8c3dfe5072e0"
      },
      "execution_count": 5,
      "outputs": [
        {
          "output_type": "stream",
          "name": "stdout",
          "text": [
            "Updated property [core/project].\n"
          ]
        }
      ]
    },
    {
      "cell_type": "code",
      "source": [
        "!./google-cloud-sdk/bin/gcloud auth activate-service-account --key-file=/content/costco-line-e1c5befd361d.json\n",
        "\n",
        "# 設定專案與區域\n",
        "!./google-cloud-sdk/bin/gcloud config set project costco-line\n",
        "!./google-cloud-sdk/bin/gcloud config set run/region asia-east1"
      ],
      "metadata": {
        "colab": {
          "base_uri": "https://localhost:8080/"
        },
        "id": "tD49CtDvyvls",
        "outputId": "e6a21c1c-856c-4683-e579-e605731dfc74"
      },
      "execution_count": 6,
      "outputs": [
        {
          "output_type": "stream",
          "name": "stdout",
          "text": [
            "Activated service account credentials for: [costco-line@costco-line.iam.gserviceaccount.com]\n",
            "Updated property [core/project].\n",
            "Updated property [run/region].\n"
          ]
        }
      ]
    },
    {
      "cell_type": "code",
      "source": [
        "%%writefile Dockerfile\n",
        "# 使用 Python 基礎映像\n",
        "FROM python:3.11-slim\n",
        "\n",
        "WORKDIR /app\n",
        "\n",
        "# 複製程式碼\n",
        "COPY . .\n",
        "\n",
        "# 安裝依賴\n",
        "RUN pip install --no-cache-dir -r requirements.txt\n",
        "\n",
        "# 設定環境變數\n",
        "ENV LINE_CHANNEL_ACCESS_TOKEN=\"ik9reNYdHWJhkqdey1cIrtKNF/yMKWyCGTZmkfeZH4FtGSj/hwZmHputQN/95c5dW29MRScjKcLwRFwD67vw8pMON62xtn/lbxm/7X7jVHplqvOtFM9jAGb+azrpqSEULEzdr4OSCJj2aAYm2wH21AdB04t89/1O/w1cDnyilFU=\"\n",
        "ENV LINE_CHANNEL_SECRET=\"a32b70f15b6fe55ec4ae766e1325cd16\"\n",
        "\n",
        "# 開放 Flask 預設 Port\n",
        "EXPOSE 5000\n",
        "\n",
        "CMD [\"python\", \"linebot.py\"]"
      ],
      "metadata": {
        "colab": {
          "base_uri": "https://localhost:8080/"
        },
        "id": "fBEub8aVt9q8",
        "outputId": "75f68033-5a57-4321-e904-3126ead1b6b8"
      },
      "execution_count": 36,
      "outputs": [
        {
          "output_type": "stream",
          "name": "stdout",
          "text": [
            "Overwriting Dockerfile\n"
          ]
        }
      ]
    },
    {
      "cell_type": "code",
      "source": [
        "%%writefile .dockerignore\n",
        "google-cloud-sdk\n",
        "sample_data\n",
        "costco-line-e1c5befd361d.json"
      ],
      "metadata": {
        "colab": {
          "base_uri": "https://localhost:8080/"
        },
        "id": "3ey3MqkRoU6s",
        "outputId": "d3cd8131-2f34-4e63-dfa8-f71281500530"
      },
      "execution_count": 48,
      "outputs": [
        {
          "output_type": "stream",
          "name": "stdout",
          "text": [
            "Overwriting .dockerignore\n"
          ]
        }
      ]
    },
    {
      "cell_type": "code",
      "source": [
        "%%writefile requirements.txt\n",
        "\n",
        "flask==2.3.3\n",
        "line-bot-sdk==3.1.0\n",
        "requests==2.31.0\n"
      ],
      "metadata": {
        "colab": {
          "base_uri": "https://localhost:8080/"
        },
        "id": "bfG7zYH96rYZ",
        "outputId": "c71f85a5-a173-44ed-a9f6-02b7313c1765"
      },
      "execution_count": 29,
      "outputs": [
        {
          "output_type": "stream",
          "name": "stdout",
          "text": [
            "Overwriting requirements.txt\n"
          ]
        }
      ]
    },
    {
      "cell_type": "code",
      "source": [
        "!pip install docker\n"
      ],
      "metadata": {
        "colab": {
          "base_uri": "https://localhost:8080/"
        },
        "id": "iuFBLiwzmqWB",
        "outputId": "5b7ff7a6-2b0b-4020-814b-feb4249f7f42"
      },
      "execution_count": 49,
      "outputs": [
        {
          "output_type": "stream",
          "name": "stdout",
          "text": [
            "Requirement already satisfied: docker in /usr/local/lib/python3.11/dist-packages (7.1.0)\n",
            "Requirement already satisfied: requests>=2.26.0 in /usr/local/lib/python3.11/dist-packages (from docker) (2.32.3)\n",
            "Requirement already satisfied: urllib3>=1.26.0 in /usr/local/lib/python3.11/dist-packages (from docker) (2.3.0)\n",
            "Requirement already satisfied: charset-normalizer<4,>=2 in /usr/local/lib/python3.11/dist-packages (from requests>=2.26.0->docker) (3.4.1)\n",
            "Requirement already satisfied: idna<4,>=2.5 in /usr/local/lib/python3.11/dist-packages (from requests>=2.26.0->docker) (3.10)\n",
            "Requirement already satisfied: certifi>=2017.4.17 in /usr/local/lib/python3.11/dist-packages (from requests>=2.26.0->docker) (2025.1.31)\n"
          ]
        }
      ]
    },
    {
      "cell_type": "code",
      "source": [
        "!sudo systemctl start docker\n",
        "!sudo systemctl enable docker  # 保證 Docker 開機啟動\n"
      ],
      "metadata": {
        "colab": {
          "base_uri": "https://localhost:8080/"
        },
        "id": "herkQbzPnl-f",
        "outputId": "ceabadda-cb9f-4b72-9777-25ebd191e3ca"
      },
      "execution_count": 50,
      "outputs": [
        {
          "output_type": "stream",
          "name": "stdout",
          "text": [
            "System has not been booted with systemd as init system (PID 1). Can't operate.\n",
            "Failed to connect to bus: Host is down\n"
          ]
        }
      ]
    },
    {
      "cell_type": "code",
      "source": [
        "!docker build -t costco-bot ."
      ],
      "metadata": {
        "colab": {
          "base_uri": "https://localhost:8080/"
        },
        "id": "cs7xY8l-dAs0",
        "outputId": "9ae75e1a-3219-4939-fca3-97646bd5980c"
      },
      "execution_count": 52,
      "outputs": [
        {
          "output_type": "stream",
          "name": "stdout",
          "text": [
            "DEPRECATED: The legacy builder is deprecated and will be removed in a future release.\n",
            "            Install the buildx component to build images with BuildKit:\n",
            "            https://docs.docker.com/go/buildx/\n",
            "\n",
            "\u001b[31mERRO\u001b[0m[0005] Can't add file /content/.config/credentials.db to tar: io: read/write on closed pipe \n",
            "\u001b[31mERRO\u001b[0m[0005] Can't close tar writer: io: read/write on closed pipe \n",
            "Cannot connect to the Docker daemon at unix:///var/run/docker.sock. Is the docker daemon running?\n"
          ]
        }
      ]
    },
    {
      "cell_type": "code",
      "source": [
        "!gsutil mb -l asia-east1 -p costco-line gs://costco-bot"
      ],
      "metadata": {
        "colab": {
          "base_uri": "https://localhost:8080/"
        },
        "id": "Mh_hMM2uIebw",
        "outputId": "150bde68-4fc8-4d93-8200-95b03dd95183"
      },
      "execution_count": 20,
      "outputs": [
        {
          "output_type": "stream",
          "name": "stdout",
          "text": [
            "Creating gs://costco-bot/...\n",
            "ServiceException: 409 A Cloud Storage bucket named 'costco-bot' already exists. Try another name. Bucket names must be globally unique across all Google Cloud projects, including those outside of your organization.\n"
          ]
        }
      ]
    },
    {
      "cell_type": "code",
      "source": [
        "# 建立映像並推送到 Cloud Run\n",
        "\n",
        "!./google-cloud-sdk/bin/gcloud builds submit --tag gcr.io/costco-line/line-bot --gcs-log-dir=gs://costco-bot\n"
      ],
      "metadata": {
        "id": "Ir78mWLB1XyV",
        "colab": {
          "base_uri": "https://localhost:8080/"
        },
        "outputId": "8181c935-ea22-4353-e6e7-ea994c5ff413"
      },
      "execution_count": 53,
      "outputs": [
        {
          "output_type": "stream",
          "name": "stdout",
          "text": [
            "Creating temporary tarball archive of 24287 file(s) totalling 776.0 MiB before compression.\n",
            "Uploading tarball of [.] to [gs://costco-line_cloudbuild/source/1743599689.78725-8009f00584a84629b1d63a95359a40e6.tgz]\n",
            "Created [https://cloudbuild.googleapis.com/v1/projects/costco-line/locations/global/builds/ef5ca952-37be-4b20-94e9-b37c6f00352f].\n",
            "Logs are available at [ https://console.cloud.google.com/cloud-build/builds/ef5ca952-37be-4b20-94e9-b37c6f00352f?project=498723905289 ].\n",
            "\u001b[1;31mERROR:\u001b[0m (gcloud.builds.submit) \n",
            "The build is running, and logs are being written to the default logs bucket.\n",
            "This tool can only stream logs if you are Viewer/Owner of the project and, if applicable, allowed by your VPC-SC security policy.\n",
            "\n",
            "The default logs bucket is always outside any VPC-SC security perimeter.\n",
            "If you want your logs saved inside your VPC-SC perimeter, use your own bucket.\n",
            "See https://cloud.google.com/build/docs/securing-builds/store-manage-build-logs.\n",
            "\n"
          ]
        }
      ]
    },
    {
      "cell_type": "code",
      "source": [
        "!./google-cloud-sdk/bin/gcloud run deploy linebot \\\n",
        "    --image gcr.io/costco-line/costco-bot \\\n",
        "    --platform managed \\\n",
        "    --region us-central1 \\\n",
        "    --allow-unauthenticated \\\n",
        "    --set-env-vars LINE_CHANNEL_ACCESS_TOKEN='ik9reNYdHWJhkqdey1cIrtKNF/yMKWyCGTZmkfeZH4FtGSj/hwZmHputQN/95c5dW29MRScjKcLwRFwD67vw8pMON62xtn/lbxm/7X7jVHplqvOtFM9jAGb+azrpqSEULEzdr4OSCJj2aAYm2wH21AdB04t89/1O/w1cDnyilFU=',LINE_CHANNEL_SECRET='a32b70f15b6fe55ec4ae766e1325cd16'\n",
        "\n"
      ],
      "metadata": {
        "colab": {
          "base_uri": "https://localhost:8080/"
        },
        "id": "vzk9ygUharj9",
        "outputId": "9ad83f75-c2de-4544-f0d6-830d7e4316ec"
      },
      "execution_count": 25,
      "outputs": [
        {
          "output_type": "stream",
          "name": "stdout",
          "text": [
            "Deploying container to Cloud Run service [\u001b[1mlinebot\u001b[m] in project [\u001b[1mcostco-line\u001b[m] region [\u001b[1mus-central1\u001b[m]\n",
            "\u001b[1;31mERROR:\u001b[0m (gcloud.run.deploy) Revision 'linebot-00001-wut' is not ready and cannot serve traffic. Image 'gcr.io/costco-line/costco-bot' not found.\n"
          ]
        }
      ]
    }
  ]
}